{
  "cells": [
    {
      "cell_type": "markdown",
      "metadata": {
        "id": "view-in-github",
        "colab_type": "text"
      },
      "source": [
        "<a href=\"https://colab.research.google.com/github/SihleShallappear/classification-predict-streamlit/blob/master/Modifying_Data%5BMCQ.ipynb\" target=\"_parent\"><img src=\"https://colab.research.google.com/assets/colab-badge.svg\" alt=\"Open In Colab\"/></a>"
      ]
    },
    {
      "cell_type": "markdown",
      "metadata": {
        "id": "MbfNdqrUxG8C"
      },
      "source": [
        "# Modifying Data\n"
      ]
    },
    {
      "cell_type": "code",
      "source": [
        "from google.colab import drive\n",
        "drive.mount('/content/drive')"
      ],
      "metadata": {
        "colab": {
          "base_uri": "https://localhost:8080/"
        },
        "id": "rraIRzTz2-7U",
        "outputId": "fae762cd-a049-4436-cceb-b3976c9b554d"
      },
      "execution_count": null,
      "outputs": [
        {
          "output_type": "stream",
          "name": "stdout",
          "text": [
            "Mounted at /content/drive\n"
          ]
        }
      ]
    },
    {
      "cell_type": "code",
      "execution_count": null,
      "metadata": {
        "id": "JIfWDv2MxG8K",
        "outputId": "b5707e39-1ae7-4c87-c0a5-f9b40f7577d4"
      },
      "outputs": [
        {
          "name": "stdout",
          "output_type": "stream",
          "text": [
            "Requirement already satisfied: sql_magic in c:\\users\\percy\\anaconda3\\lib\\site-packages (0.0.4)\n",
            "Requirement already satisfied: jupyter in c:\\users\\percy\\anaconda3\\lib\\site-packages (from sql_magic) (1.0.0)\n",
            "Requirement already satisfied: ipython in c:\\users\\percy\\anaconda3\\lib\\site-packages (from sql_magic) (8.2.0)\n",
            "Requirement already satisfied: sqlparse in c:\\users\\percy\\anaconda3\\lib\\site-packages (from sql_magic) (0.4.3)\n",
            "Requirement already satisfied: traitlets in c:\\users\\percy\\anaconda3\\lib\\site-packages (from sql_magic) (5.1.1)\n",
            "Requirement already satisfied: pandas in c:\\users\\percy\\anaconda3\\lib\\site-packages (from sql_magic) (1.4.2)\n",
            "Requirement already satisfied: findspark in c:\\users\\percy\\anaconda3\\lib\\site-packages (from sql_magic) (2.0.1)\n",
            "Requirement already satisfied: backcall in c:\\users\\percy\\anaconda3\\lib\\site-packages (from ipython->sql_magic) (0.2.0)\n",
            "Requirement already satisfied: pickleshare in c:\\users\\percy\\anaconda3\\lib\\site-packages (from ipython->sql_magic) (0.7.5)\n",
            "Requirement already satisfied: stack-data in c:\\users\\percy\\anaconda3\\lib\\site-packages (from ipython->sql_magic) (0.2.0)\n",
            "Requirement already satisfied: prompt-toolkit!=3.0.0,!=3.0.1,<3.1.0,>=2.0.0 in c:\\users\\percy\\anaconda3\\lib\\site-packages (from ipython->sql_magic) (3.0.20)\n",
            "Requirement already satisfied: matplotlib-inline in c:\\users\\percy\\anaconda3\\lib\\site-packages (from ipython->sql_magic) (0.1.2)\n",
            "Requirement already satisfied: pygments>=2.4.0 in c:\\users\\percy\\anaconda3\\lib\\site-packages (from ipython->sql_magic) (2.11.2)\n",
            "Requirement already satisfied: setuptools>=18.5 in c:\\users\\percy\\anaconda3\\lib\\site-packages (from ipython->sql_magic) (61.2.0)\n",
            "Requirement already satisfied: decorator in c:\\users\\percy\\anaconda3\\lib\\site-packages (from ipython->sql_magic) (5.1.1)\n",
            "Requirement already satisfied: colorama in c:\\users\\percy\\anaconda3\\lib\\site-packages (from ipython->sql_magic) (0.4.4)\n",
            "Requirement already satisfied: jedi>=0.16 in c:\\users\\percy\\anaconda3\\lib\\site-packages (from ipython->sql_magic) (0.18.1)\n",
            "Requirement already satisfied: parso<0.9.0,>=0.8.0 in c:\\users\\percy\\anaconda3\\lib\\site-packages (from jedi>=0.16->ipython->sql_magic) (0.8.3)\n",
            "Requirement already satisfied: wcwidth in c:\\users\\percy\\anaconda3\\lib\\site-packages (from prompt-toolkit!=3.0.0,!=3.0.1,<3.1.0,>=2.0.0->ipython->sql_magic) (0.2.5)\n",
            "Requirement already satisfied: qtconsole in c:\\users\\percy\\anaconda3\\lib\\site-packages (from jupyter->sql_magic) (5.3.0)\n",
            "Requirement already satisfied: notebook in c:\\users\\percy\\anaconda3\\lib\\site-packages (from jupyter->sql_magic) (6.4.8)\n",
            "Requirement already satisfied: jupyter-console in c:\\users\\percy\\anaconda3\\lib\\site-packages (from jupyter->sql_magic) (6.4.0)\n",
            "Requirement already satisfied: ipywidgets in c:\\users\\percy\\anaconda3\\lib\\site-packages (from jupyter->sql_magic) (7.6.5)\n",
            "Requirement already satisfied: ipykernel in c:\\users\\percy\\anaconda3\\lib\\site-packages (from jupyter->sql_magic) (6.9.1)\n",
            "Requirement already satisfied: nbconvert in c:\\users\\percy\\anaconda3\\lib\\site-packages (from jupyter->sql_magic) (6.4.4)\n",
            "Requirement already satisfied: jupyter-client<8.0 in c:\\users\\percy\\anaconda3\\lib\\site-packages (from ipykernel->jupyter->sql_magic) (6.1.12)\n",
            "Requirement already satisfied: tornado<7.0,>=4.2 in c:\\users\\percy\\anaconda3\\lib\\site-packages (from ipykernel->jupyter->sql_magic) (6.1)\n",
            "Requirement already satisfied: debugpy<2.0,>=1.0.0 in c:\\users\\percy\\anaconda3\\lib\\site-packages (from ipykernel->jupyter->sql_magic) (1.5.1)\n",
            "Requirement already satisfied: nest-asyncio in c:\\users\\percy\\anaconda3\\lib\\site-packages (from ipykernel->jupyter->sql_magic) (1.5.5)\n",
            "Requirement already satisfied: jupyter-core>=4.6.0 in c:\\users\\percy\\anaconda3\\lib\\site-packages (from jupyter-client<8.0->ipykernel->jupyter->sql_magic) (4.9.2)\n",
            "Requirement already satisfied: pyzmq>=13 in c:\\users\\percy\\anaconda3\\lib\\site-packages (from jupyter-client<8.0->ipykernel->jupyter->sql_magic) (22.3.0)\n",
            "Requirement already satisfied: python-dateutil>=2.1 in c:\\users\\percy\\anaconda3\\lib\\site-packages (from jupyter-client<8.0->ipykernel->jupyter->sql_magic) (2.8.2)\n",
            "Requirement already satisfied: pywin32>=1.0 in c:\\users\\percy\\anaconda3\\lib\\site-packages (from jupyter-core>=4.6.0->jupyter-client<8.0->ipykernel->jupyter->sql_magic) (302)\n",
            "Requirement already satisfied: six>=1.5 in c:\\users\\percy\\anaconda3\\lib\\site-packages (from python-dateutil>=2.1->jupyter-client<8.0->ipykernel->jupyter->sql_magic) (1.16.0)\n",
            "Requirement already satisfied: widgetsnbextension~=3.5.0 in c:\\users\\percy\\anaconda3\\lib\\site-packages (from ipywidgets->jupyter->sql_magic) (3.5.2)\n",
            "Requirement already satisfied: jupyterlab-widgets>=1.0.0 in c:\\users\\percy\\anaconda3\\lib\\site-packages (from ipywidgets->jupyter->sql_magic) (1.0.0)\n",
            "Requirement already satisfied: nbformat>=4.2.0 in c:\\users\\percy\\anaconda3\\lib\\site-packages (from ipywidgets->jupyter->sql_magic) (5.3.0)\n",
            "Requirement already satisfied: ipython-genutils~=0.2.0 in c:\\users\\percy\\anaconda3\\lib\\site-packages (from ipywidgets->jupyter->sql_magic) (0.2.0)\n",
            "Requirement already satisfied: fastjsonschema in c:\\users\\percy\\anaconda3\\lib\\site-packages (from nbformat>=4.2.0->ipywidgets->jupyter->sql_magic) (2.15.1)\n",
            "Requirement already satisfied: jsonschema>=2.6 in c:\\users\\percy\\anaconda3\\lib\\site-packages (from nbformat>=4.2.0->ipywidgets->jupyter->sql_magic) (4.4.0)\n",
            "Requirement already satisfied: attrs>=17.4.0 in c:\\users\\percy\\anaconda3\\lib\\site-packages (from jsonschema>=2.6->nbformat>=4.2.0->ipywidgets->jupyter->sql_magic) (21.4.0)\n",
            "Requirement already satisfied: pyrsistent!=0.17.0,!=0.17.1,!=0.17.2,>=0.14.0 in c:\\users\\percy\\anaconda3\\lib\\site-packages (from jsonschema>=2.6->nbformat>=4.2.0->ipywidgets->jupyter->sql_magic) (0.18.0)\n",
            "Requirement already satisfied: terminado>=0.8.3 in c:\\users\\percy\\anaconda3\\lib\\site-packages (from notebook->jupyter->sql_magic) (0.13.1)\n",
            "Requirement already satisfied: Send2Trash>=1.8.0 in c:\\users\\percy\\anaconda3\\lib\\site-packages (from notebook->jupyter->sql_magic) (1.8.0)\n",
            "Requirement already satisfied: argon2-cffi in c:\\users\\percy\\anaconda3\\lib\\site-packages (from notebook->jupyter->sql_magic) (21.3.0)\n",
            "Requirement already satisfied: jinja2 in c:\\users\\percy\\anaconda3\\lib\\site-packages (from notebook->jupyter->sql_magic) (2.11.3)\n",
            "Requirement already satisfied: prometheus-client in c:\\users\\percy\\anaconda3\\lib\\site-packages (from notebook->jupyter->sql_magic) (0.13.1)\n",
            "Requirement already satisfied: pywinpty>=1.1.0 in c:\\users\\percy\\anaconda3\\lib\\site-packages (from terminado>=0.8.3->notebook->jupyter->sql_magic) (2.0.2)\n",
            "Requirement already satisfied: argon2-cffi-bindings in c:\\users\\percy\\anaconda3\\lib\\site-packages (from argon2-cffi->notebook->jupyter->sql_magic) (21.2.0)\n",
            "Requirement already satisfied: cffi>=1.0.1 in c:\\users\\percy\\anaconda3\\lib\\site-packages (from argon2-cffi-bindings->argon2-cffi->notebook->jupyter->sql_magic) (1.15.0)\n",
            "Requirement already satisfied: pycparser in c:\\users\\percy\\anaconda3\\lib\\site-packages (from cffi>=1.0.1->argon2-cffi-bindings->argon2-cffi->notebook->jupyter->sql_magic) (2.21)\n",
            "Requirement already satisfied: MarkupSafe>=0.23 in c:\\users\\percy\\anaconda3\\lib\\site-packages (from jinja2->notebook->jupyter->sql_magic) (2.0.1)\n",
            "Requirement already satisfied: mistune<2,>=0.8.1 in c:\\users\\percy\\anaconda3\\lib\\site-packages (from nbconvert->jupyter->sql_magic) (0.8.4)\n",
            "Requirement already satisfied: entrypoints>=0.2.2 in c:\\users\\percy\\anaconda3\\lib\\site-packages (from nbconvert->jupyter->sql_magic) (0.4)\n",
            "Requirement already satisfied: pandocfilters>=1.4.1 in c:\\users\\percy\\anaconda3\\lib\\site-packages (from nbconvert->jupyter->sql_magic) (1.5.0)\n",
            "Requirement already satisfied: defusedxml in c:\\users\\percy\\anaconda3\\lib\\site-packages (from nbconvert->jupyter->sql_magic) (0.7.1)\n",
            "Requirement already satisfied: beautifulsoup4 in c:\\users\\percy\\anaconda3\\lib\\site-packages (from nbconvert->jupyter->sql_magic) (4.11.1)\n",
            "Requirement already satisfied: nbclient<0.6.0,>=0.5.0 in c:\\users\\percy\\anaconda3\\lib\\site-packages (from nbconvert->jupyter->sql_magic) (0.5.13)\n",
            "Requirement already satisfied: jupyterlab-pygments in c:\\users\\percy\\anaconda3\\lib\\site-packages (from nbconvert->jupyter->sql_magic) (0.1.2)\n",
            "Requirement already satisfied: bleach in c:\\users\\percy\\anaconda3\\lib\\site-packages (from nbconvert->jupyter->sql_magic) (4.1.0)\n",
            "Requirement already satisfied: testpath in c:\\users\\percy\\anaconda3\\lib\\site-packages (from nbconvert->jupyter->sql_magic) (0.5.0)\n",
            "Requirement already satisfied: soupsieve>1.2 in c:\\users\\percy\\anaconda3\\lib\\site-packages (from beautifulsoup4->nbconvert->jupyter->sql_magic) (2.3.1)\n",
            "Requirement already satisfied: webencodings in c:\\users\\percy\\anaconda3\\lib\\site-packages (from bleach->nbconvert->jupyter->sql_magic) (0.5.1)\n",
            "Requirement already satisfied: packaging in c:\\users\\percy\\anaconda3\\lib\\site-packages (from bleach->nbconvert->jupyter->sql_magic) (21.3)\n",
            "Requirement already satisfied: pyparsing!=3.0.5,>=2.0.2 in c:\\users\\percy\\anaconda3\\lib\\site-packages (from packaging->bleach->nbconvert->jupyter->sql_magic) (3.0.4)\n",
            "Requirement already satisfied: numpy>=1.18.5 in c:\\users\\percy\\anaconda3\\lib\\site-packages (from pandas->sql_magic) (1.21.5)\n",
            "Requirement already satisfied: pytz>=2020.1 in c:\\users\\percy\\anaconda3\\lib\\site-packages (from pandas->sql_magic) (2021.3)\n",
            "Requirement already satisfied: qtpy>=2.0.1 in c:\\users\\percy\\anaconda3\\lib\\site-packages (from qtconsole->jupyter->sql_magic) (2.0.1)\n",
            "Requirement already satisfied: pure-eval in c:\\users\\percy\\anaconda3\\lib\\site-packages (from stack-data->ipython->sql_magic) (0.2.2)\n",
            "Requirement already satisfied: asttokens in c:\\users\\percy\\anaconda3\\lib\\site-packages (from stack-data->ipython->sql_magic) (2.0.5)\n",
            "Requirement already satisfied: executing in c:\\users\\percy\\anaconda3\\lib\\site-packages (from stack-data->ipython->sql_magic) (0.8.3)\n",
            "Note: you may need to restart the kernel to use updated packages.\n"
          ]
        }
      ],
      "source": [
        "pip install sql_magic"
      ]
    },
    {
      "cell_type": "code",
      "execution_count": null,
      "metadata": {
        "id": "V4GoNUsTxG8R"
      },
      "outputs": [],
      "source": [
        "%load_ext sql"
      ]
    },
    {
      "cell_type": "code",
      "execution_count": null,
      "metadata": {
        "id": "3UqU-gehxG8U"
      },
      "outputs": [],
      "source": [
        "%%sql\n",
        "\n",
        "sqlite:///TMDB.db"
      ]
    },
    {
      "cell_type": "code",
      "execution_count": null,
      "metadata": {
        "id": "NqHev4FExG8V",
        "outputId": "2b8b1ed6-d256-478d-e606-726aaddf6ede"
      },
      "outputs": [
        {
          "name": "stdout",
          "output_type": "stream",
          "text": [
            " * sqlite:///TMDB.db\n",
            "Done.\n"
          ]
        },
        {
          "data": {
            "text/html": [
              "<table>\n",
              "    <tr>\n",
              "        <th>movie_id</th>\n",
              "        <th>title</th>\n",
              "        <th>release_date</th>\n",
              "        <th>budget</th>\n",
              "        <th>homepage</th>\n",
              "        <th>original_language</th>\n",
              "        <th>original_title</th>\n",
              "        <th>overview</th>\n",
              "        <th>popularity</th>\n",
              "        <th>revenue</th>\n",
              "        <th>runtime</th>\n",
              "        <th>release_status</th>\n",
              "        <th>tagline</th>\n",
              "        <th>vote_average</th>\n",
              "        <th>vote_count</th>\n",
              "    </tr>\n",
              "    <tr>\n",
              "        <td>5</td>\n",
              "        <td>Four Rooms</td>\n",
              "        <td>1995-12-09 00:00:00.000000</td>\n",
              "        <td>4000000</td>\n",
              "        <td>None</td>\n",
              "        <td>en</td>\n",
              "        <td>Four Rooms</td>\n",
              "        <td>It&#x27;s Ted the Bellhop&#x27;s first night on the job...and the hotel&#x27;s very unusual guests are about to place him in some outrageous predicaments. It seems that this evening&#x27;s room service is serving up one unbelievable happening after another.</td>\n",
              "        <td>22.87623</td>\n",
              "        <td>4300000.0</td>\n",
              "        <td>98.0</td>\n",
              "        <td>Released</td>\n",
              "        <td>Twelve outrageous guests. Four scandalous requests. And one lone bellhop, in his first day on the job, who&#x27;s in for the wildest New year&#x27;s Eve of his life.</td>\n",
              "        <td>6.5</td>\n",
              "        <td>530</td>\n",
              "    </tr>\n",
              "</table>"
            ],
            "text/plain": [
              "[(5, 'Four Rooms', '1995-12-09 00:00:00.000000', 4000000, None, 'en', 'Four Rooms', \"It's Ted the Bellhop's first night on the job...and the hotel's very unusual guests are about to place him in some outrageous predicaments. It seems that this evening's room service is serving up one unbelievable happening after another.\", 22.87623, 4300000.0, 98.0, 'Released', \"Twelve outrageous guests. Four scandalous requests. And one lone bellhop, in his first day on the job, who's in for the wildest New year's Eve of his life.\", 6.5, 530)]"
            ]
          },
          "execution_count": 4,
          "metadata": {},
          "output_type": "execute_result"
        }
      ],
      "source": [
        "%%sql\n",
        "SELECT *\n",
        "FROM movies\n",
        "LIMIT 1;"
      ]
    },
    {
      "cell_type": "markdown",
      "metadata": {
        "id": "hsoX5YRhxG8X"
      },
      "source": [
        "## Questions on Modifying Data\n",
        "\n",
        "**Question 1**\n",
        "\n",
        "What query would you write to change the name of the language with the 'zh' iso code in the \"Languages\" table to Chinese?"
      ]
    },
    {
      "cell_type": "code",
      "execution_count": null,
      "metadata": {
        "id": "hXqS68GuxG8Y",
        "outputId": "ba75f50b-75ff-40f8-e358-a96b0fe3c82f"
      },
      "outputs": [
        {
          "name": "stdout",
          "output_type": "stream",
          "text": [
            " * sqlite:///TMDB.db\n",
            "1 rows affected.\n"
          ]
        },
        {
          "data": {
            "text/plain": [
              "[]"
            ]
          },
          "execution_count": 5,
          "metadata": {},
          "output_type": "execute_result"
        }
      ],
      "source": [
        "%%sql\n",
        "UPDATE Languages SET language_name = 'Chinese'\n",
        "WHERE iso_639_1 = 'zh'"
      ]
    },
    {
      "cell_type": "markdown",
      "metadata": {
        "id": "_GiQGoAnxG8a"
      },
      "source": [
        "**Question 2**\n",
        "\n",
        "What query would you write to insert a new genre called Sport with an id of 10?"
      ]
    },
    {
      "cell_type": "code",
      "execution_count": null,
      "metadata": {
        "id": "Y2DdIHvVxG8c",
        "outputId": "8264f10e-3011-4ee6-8413-16765fbdd2e3"
      },
      "outputs": [
        {
          "name": "stdout",
          "output_type": "stream",
          "text": [
            " * sqlite:///TMDB.db\n",
            "(sqlite3.IntegrityError) UNIQUE constraint failed: genres.genre_id\n",
            "[SQL: INSERT INTO Genres(genre_id,genre_name) Values(10,'Sport');]\n",
            "(Background on this error at: https://sqlalche.me/e/14/gkpj)\n"
          ]
        }
      ],
      "source": [
        "%%sql\n",
        "INSERT INTO Genres(genre_id,genre_name) Values(10,'Sport')"
      ]
    },
    {
      "cell_type": "markdown",
      "metadata": {
        "id": "KL4M7fNoxG8e"
      },
      "source": [
        "**Question 3**\n",
        "\n",
        "You have just watched The Flintstones movie and did not find it very funny. What code would delete the entry that links The Flintstones to the Comedy genre?"
      ]
    },
    {
      "cell_type": "code",
      "execution_count": null,
      "metadata": {
        "id": "I6Y8GeIRxG8f",
        "outputId": "94b01231-d41c-41a5-ea43-a6f00f844a62"
      },
      "outputs": [
        {
          "name": "stdout",
          "output_type": "stream",
          "text": [
            " * sqlite:///TMDB.db\n",
            "1 rows affected.\n"
          ]
        },
        {
          "data": {
            "text/plain": [
              "[]"
            ]
          },
          "execution_count": 13,
          "metadata": {},
          "output_type": "execute_result"
        }
      ],
      "source": [
        "%%sql\n",
        "DELETE FROM genremap\n",
        "WHERE genre_id = 35 AND movie_id = 888"
      ]
    },
    {
      "cell_type": "markdown",
      "metadata": {
        "id": "h2I3wq23xG8g"
      },
      "source": [
        "**Question 4**\n",
        "\n",
        "What query would you write to add a column to the language table that could be used for the English names of the different languages?"
      ]
    },
    {
      "cell_type": "code",
      "execution_count": null,
      "metadata": {
        "id": "snHAW6jSxG8k",
        "outputId": "64a28065-a95b-4e13-d06c-f2c24efd0a67"
      },
      "outputs": [
        {
          "name": "stdout",
          "output_type": "stream",
          "text": [
            " * sqlite:///TMDB.db\n",
            "Done.\n"
          ]
        },
        {
          "data": {
            "text/plain": [
              "[]"
            ]
          },
          "execution_count": 14,
          "metadata": {},
          "output_type": "execute_result"
        }
      ],
      "source": [
        "%%sql\n",
        "ALTER TABLE languages\n",
        "ADD language_english_name varchar(50)\n"
      ]
    },
    {
      "cell_type": "markdown",
      "metadata": {
        "id": "t1vXiV7UxG8m"
      },
      "source": [
        "**Question 6**\n",
        "\n",
        "What query would you write to create a new table called Favourites that only has one column for the movie_id?"
      ]
    },
    {
      "cell_type": "code",
      "execution_count": null,
      "metadata": {
        "id": "ZoLh5W6YxG8n",
        "outputId": "5a14281f-4db1-45ca-b66b-7865ad44b372"
      },
      "outputs": [
        {
          "name": "stdout",
          "output_type": "stream",
          "text": [
            " * sqlite:///TMDB.db\n",
            "Done.\n"
          ]
        },
        {
          "data": {
            "text/plain": [
              "[]"
            ]
          },
          "execution_count": 15,
          "metadata": {},
          "output_type": "execute_result"
        }
      ],
      "source": [
        "%%sql\n",
        "CREATE TABLE Favourites ( movie_id int)"
      ]
    },
    {
      "cell_type": "markdown",
      "metadata": {
        "id": "TLn7O1CKxG8q"
      },
      "source": [
        "**Question 7**\n",
        "\n",
        "When using SQLite, if you want to make sure that you do not put duplicates in your new Favourites table, how would you have created your 'Favourites' table?"
      ]
    },
    {
      "cell_type": "code",
      "execution_count": null,
      "metadata": {
        "id": "QeHZsS6dxG8s",
        "outputId": "fba756a9-6f71-473f-8ee1-00e910606686"
      },
      "outputs": [
        {
          "name": "stdout",
          "output_type": "stream",
          "text": [
            " * sqlite:///TMDB.db\n",
            "(sqlite3.OperationalError) table Favourites already exists\n",
            "[SQL: CREATE TABLE Favourites (movie_id int unique)]\n",
            "(Background on this error at: https://sqlalche.me/e/14/e3q8)\n"
          ]
        }
      ],
      "source": [
        "%%sql\n",
        "CREATE TABLE Favourites (movie_id int unique)"
      ]
    },
    {
      "cell_type": "markdown",
      "metadata": {
        "id": "46nQth3XxG8u"
      },
      "source": [
        "**Qurstion 8**\n",
        "\n",
        "When using SQLite, and you want your new 'Favourites' table to also hold the names of your favourite movies. What query would you write to introduce this new column?"
      ]
    },
    {
      "cell_type": "code",
      "execution_count": null,
      "metadata": {
        "id": "cQ3UKzCtxG8w",
        "outputId": "cccb1a84-2c26-40ad-8912-91351f111c63"
      },
      "outputs": [
        {
          "name": "stdout",
          "output_type": "stream",
          "text": [
            " * sqlite:///TMDB.db\n",
            "Done.\n"
          ]
        },
        {
          "data": {
            "text/plain": [
              "[]"
            ]
          },
          "execution_count": 17,
          "metadata": {},
          "output_type": "execute_result"
        }
      ],
      "source": [
        "%%sql\n",
        "ALTER TABLE Favourites ADD COLUMN movie_name VARCHAR"
      ]
    },
    {
      "cell_type": "markdown",
      "metadata": {
        "id": "m3-bVehAxG8x"
      },
      "source": [
        "**Question 9**\n",
        "What would the following query do?"
      ]
    },
    {
      "cell_type": "code",
      "execution_count": null,
      "metadata": {
        "id": "1SMIGBETxG8y",
        "outputId": "0526d454-fd5b-4531-ed6b-b41eac148cb2"
      },
      "outputs": [
        {
          "name": "stdout",
          "output_type": "stream",
          "text": [
            " * sqlite:///TMDB.db\n",
            "(sqlite3.OperationalError) no such table: Favourites\n",
            "[SQL: INSERT INTO Favourites\n",
            "SELECT title FROM Movies\n",
            "WHERE popularity > 100;]\n",
            "(Background on this error at: https://sqlalche.me/e/14/e3q8)\n"
          ]
        }
      ],
      "source": [
        "%%sql\n",
        "INSERT INTO Favourites\n",
        "SELECT title FROM Movies\n",
        "WHERE popularity > 100;"
      ]
    },
    {
      "cell_type": "markdown",
      "metadata": {
        "id": "m0skr8AMxG80"
      },
      "source": [
        "**Question 10**\n",
        "\n",
        "What query would you write to delete the table Favourites that we created in the previous question?"
      ]
    },
    {
      "cell_type": "code",
      "execution_count": null,
      "metadata": {
        "id": "NBv6NRYhxG81",
        "outputId": "2d27f390-8869-463a-8834-11fd8936e59a"
      },
      "outputs": [
        {
          "name": "stdout",
          "output_type": "stream",
          "text": [
            " * sqlite:///TMDB.db\n",
            "Done.\n"
          ]
        },
        {
          "data": {
            "text/plain": [
              "[]"
            ]
          },
          "execution_count": 19,
          "metadata": {},
          "output_type": "execute_result"
        }
      ],
      "source": [
        "%%sql\n",
        "DROP TABLE Favourites"
      ]
    },
    {
      "cell_type": "code",
      "execution_count": null,
      "metadata": {
        "id": "4GWF2XFhxG82"
      },
      "outputs": [],
      "source": []
    }
  ],
  "metadata": {
    "kernelspec": {
      "display_name": "Python 3.9.12 ('base')",
      "language": "python",
      "name": "python3"
    },
    "language_info": {
      "codemirror_mode": {
        "name": "ipython",
        "version": 3
      },
      "file_extension": ".py",
      "mimetype": "text/x-python",
      "name": "python",
      "nbconvert_exporter": "python",
      "pygments_lexer": "ipython3",
      "version": "3.9.12"
    },
    "vscode": {
      "interpreter": {
        "hash": "4ffc5137d7b0e451946977927a19e761e5005d65f784c2c6c7e599422e31168a"
      }
    },
    "colab": {
      "provenance": [],
      "include_colab_link": true
    }
  },
  "nbformat": 4,
  "nbformat_minor": 0
}